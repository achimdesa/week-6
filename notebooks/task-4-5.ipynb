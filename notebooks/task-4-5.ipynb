{
 "cells": [
  {
   "cell_type": "code",
   "execution_count": 1,
   "metadata": {},
   "outputs": [],
   "source": [
    "import sys\n",
    "import os\n",
    "\n",
    "# Add the parent directory to sys.path\n",
    "sys.path.append(os.path.abspath('../scripts'))\n",
    "\n",
    "# Import necessary libraries\n",
    "import sys\n",
    "import pandas as pd\n",
    "import scorecardpy as sc\n",
    "from sklearn.model_selection import GridSearchCV\n",
    "from sklearn.linear_model import LogisticRegression\n",
    "from sklearn.ensemble import RandomForestClassifier\n",
    "from sklearn.metrics import accuracy_score, roc_auc_score, classification_report, confusion_matrix\n",
    "import seaborn as sns\n",
    "import matplotlib.pyplot as plt\n",
    "import warnings\n",
    "import joblib  # For saving models\n",
    "from load_data import load_data\n",
    "\n",
    "warnings.filterwarnings('ignore')\n"
   ]
  },
  {
   "cell_type": "code",
   "execution_count": 2,
   "metadata": {},
   "outputs": [
    {
     "name": "stdout",
     "output_type": "stream",
     "text": [
      "Data loaded successfully. Shape: (95662, 16)\n"
     ]
    }
   ],
   "source": [
    "# Step 1: Load the data\n",
    "data = load_data('../data/data.csv')"
   ]
  },
  {
   "cell_type": "code",
   "execution_count": 3,
   "metadata": {},
   "outputs": [],
   "source": [
    "# Step 2: Drop irrelevant columns (with too many unique values)\n",
    "data.drop(columns=['TransactionId', 'BatchId', 'AccountId', 'SubscriptionId', 'CustomerId', 'CurrencyCode', 'CountryCode'], inplace=True)\n",
    "\n",
    "# Step 3: Extract temporal features\n",
    "data['TransactionStartTime'] = pd.to_datetime(data['TransactionStartTime'], errors='coerce')\n",
    "\n",
    "# Extract useful temporal features\n",
    "data['transaction_hour'] = data['TransactionStartTime'].dt.hour\n",
    "data['transaction_day'] = data['TransactionStartTime'].dt.day\n",
    "data['transaction_month'] = data['TransactionStartTime'].dt.month\n",
    "data['transaction_year'] = data['TransactionStartTime'].dt.year\n",
    "\n",
    "# Drop TransactionStartTime after extracting temporal features\n",
    "data.drop(columns=['TransactionStartTime'], inplace=True)"
   ]
  },
  {
   "cell_type": "code",
   "execution_count": 4,
   "metadata": {},
   "outputs": [],
   "source": [
    "# Step 4: Split the data into training and testing sets (70/30)\n",
    "train, test = sc.split_df(data, 'FraudResult', ratio=0.7, seed=999).values()"
   ]
  },
  {
   "cell_type": "code",
   "execution_count": 5,
   "metadata": {},
   "outputs": [
    {
     "name": "stdout",
     "output_type": "stream",
     "text": [
      "[INFO] creating woe binning ...\n"
     ]
    }
   ],
   "source": [
    "# Step 5: Apply WoE binning\n",
    "woe_bins = sc.woebin(train, y='FraudResult')"
   ]
  },
  {
   "cell_type": "code",
   "execution_count": 6,
   "metadata": {},
   "outputs": [
    {
     "name": "stdout",
     "output_type": "stream",
     "text": [
      "[INFO] converting into woe values ...\n",
      "[INFO] converting into woe values ...\n"
     ]
    }
   ],
   "source": [
    "# Step 6: Transform the training and testing sets using WoE\n",
    "train_woe = sc.woebin_ply(train, woe_bins)\n",
    "test_woe = sc.woebin_ply(test, woe_bins)\n",
    "\n",
    "# Drop target from the training and testing sets\n",
    "X_train = train_woe.drop(columns=['FraudResult'])\n",
    "y_train = train_woe['FraudResult']\n",
    "X_test = test_woe.drop(columns=['FraudResult'])\n",
    "y_test = test_woe['FraudResult']"
   ]
  }
 ],
 "metadata": {
  "kernelspec": {
   "display_name": "w6venv",
   "language": "python",
   "name": "python3"
  },
  "language_info": {
   "codemirror_mode": {
    "name": "ipython",
    "version": 3
   },
   "file_extension": ".py",
   "mimetype": "text/x-python",
   "name": "python",
   "nbconvert_exporter": "python",
   "pygments_lexer": "ipython3",
   "version": "3.12.8"
  }
 },
 "nbformat": 4,
 "nbformat_minor": 2
}
