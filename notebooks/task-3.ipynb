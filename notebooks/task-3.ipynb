{
 "cells": [
  {
   "cell_type": "code",
   "execution_count": 2,
   "metadata": {},
   "outputs": [],
   "source": [
    "# task_3\n",
    "\n",
    "import sys\n",
    "import os\n",
    "\n",
    "# Add the parent directory to sys.path\n",
    "sys.path.append(os.path.abspath('../scripts'))\n",
    "\n",
    "from load_data import load_data\n",
    "from feature_engineering import create_aggregate_features, extract_temporal_features, encode_categorical, handle_missing_values, scale_features\n",
    "import scorecardpy as sc\n"
   ]
  },
  {
   "cell_type": "code",
   "execution_count": 3,
   "metadata": {},
   "outputs": [
    {
     "name": "stdout",
     "output_type": "stream",
     "text": [
      "Data loaded successfully. Shape: (95662, 16)\n"
     ]
    }
   ],
   "source": [
    "\n",
    "# Load the data\n",
    "data = load_data('../data/data.csv')\n"
   ]
  },
  {
   "cell_type": "code",
   "execution_count": 4,
   "metadata": {},
   "outputs": [
    {
     "name": "stdout",
     "output_type": "stream",
     "text": [
      "Aggregated features:\n",
      "        CustomerId  total_amount    avg_amount  transaction_count  std_transaction_amount\n",
      "0     CustomerId_1      -10000.0 -10000.000000                  1                0.000000\n",
      "1    CustomerId_10      -10000.0 -10000.000000                  1                0.000000\n",
      "2  CustomerId_1001       20000.0   4000.000000                  5             6558.963333\n",
      "3  CustomerId_1002        4225.0    384.090909                 11              560.498966\n",
      "4  CustomerId_1003       20000.0   3333.333333                  6             6030.478146\n"
     ]
    }
   ],
   "source": [
    "\n",
    "# Step 1: Create aggregate features\n",
    "agg_features = create_aggregate_features(data)\n",
    "print(\"Aggregated features:\")\n",
    "print(agg_features.head())\n"
   ]
  },
  {
   "cell_type": "code",
   "execution_count": null,
   "metadata": {},
   "outputs": [],
   "source": [
    "\n",
    "# Step 2: Extract temporal features\n",
    "data = extract_temporal_features(data)\n",
    "print(\"Data with extracted temporal features:\")\n",
    "print(data[['TransactionStartTime', 'transaction_hour', 'transaction_day']].head())\n"
   ]
  },
  {
   "cell_type": "code",
   "execution_count": 5,
   "metadata": {},
   "outputs": [],
   "source": [
    "\n",
    "# Step 3: Handle missing values and encode columns as necessary\n",
    "data['ProductCategory'] = data['ProductCategory'].fillna('Other')\n",
    "data['ChannelId'] = data['ChannelId'].fillna('Other')\n"
   ]
  },
  {
   "cell_type": "code",
   "execution_count": 6,
   "metadata": {},
   "outputs": [
    {
     "name": "stdout",
     "output_type": "stream",
     "text": [
      "[INFO] creating woe binning ...\n"
     ]
    }
   ],
   "source": [
    "\n",
    "# Step 4: Perform WoE and IV calculation using ScorecardPy\n",
    "# Split the data into training and testing sets (70/30 split)\n",
    "train, test = sc.split_df(data, 'FraudResult', ratio=0.7, seed=999).values()\n",
    "\n",
    "# Perform WoE binning\n",
    "categorical_columns = ['ProductCategory', 'ChannelId']\n",
    "woe_bins = sc.woebin(train, y='FraudResult', x=categorical_columns)\n"
   ]
  }
 ],
 "metadata": {
  "kernelspec": {
   "display_name": "w6venv",
   "language": "python",
   "name": "python3"
  },
  "language_info": {
   "codemirror_mode": {
    "name": "ipython",
    "version": 3
   },
   "file_extension": ".py",
   "mimetype": "text/x-python",
   "name": "python",
   "nbconvert_exporter": "python",
   "pygments_lexer": "ipython3",
   "version": "3.12.8"
  }
 },
 "nbformat": 4,
 "nbformat_minor": 2
}
